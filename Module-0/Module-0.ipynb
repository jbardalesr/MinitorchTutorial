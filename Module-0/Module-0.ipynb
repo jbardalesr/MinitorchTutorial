{
 "metadata": {
  "language_info": {
   "codemirror_mode": {
    "name": "ipython",
    "version": 3
   },
   "file_extension": ".py",
   "mimetype": "text/x-python",
   "name": "python",
   "nbconvert_exporter": "python",
   "pygments_lexer": "ipython3",
   "version": "3.8.8"
  },
  "orig_nbformat": 4,
  "kernelspec": {
   "name": "python3",
   "display_name": "Python 3.8.8 64-bit ('base': conda)"
  },
  "interpreter": {
   "hash": "022be8d7a8a777b4add8226f71f397ce6c85621aca418c778919691fdf017689"
  }
 },
 "nbformat": 4,
 "nbformat_minor": 2,
 "cells": [
  {
   "source": [
    "# Module 0 - Fundamentals"
   ],
   "cell_type": "markdown",
   "metadata": {}
  },
  {
   "source": [
    "# Task\n",
    "## Task 0.1: Mathematical operators"
   ],
   "cell_type": "markdown",
   "metadata": {}
  },
  {
   "cell_type": "code",
   "execution_count": 3,
   "metadata": {},
   "outputs": [],
   "source": [
    "def mul(x, y):\n",
    "    \":math:`f(x, y) = x * y`\"\n",
    "    return x * y\n",
    "\n",
    "\n",
    "def id(x):\n",
    "    \":math:`f(x) = x`\"\n",
    "    return x\n",
    "\n",
    "\n",
    "def add(x, y):\n",
    "    \":math:`f(x, y) = x + y`\"\n",
    "    return x + y\n",
    "\n",
    "\n",
    "def neg(x):\n",
    "    \":math:`f(x) = -x`\"\n",
    "    return -x\n",
    "\n",
    "\n",
    "def lt(x, y):\n",
    "    \":math:`f(x) =` 1.0 if x is less than y else 0.0\"\n",
    "    return 1.0 if x < y else 0.0\n",
    "\n",
    "\n",
    "def eq(x, y):\n",
    "    \":math:`f(x) =` 1.0 if x is equal to y else 0.0\"\n",
    "    return 1.0 if x == y else 0.0\n",
    "\n",
    "\n",
    "def max(x, y):\n",
    "    \":math:`f(x) =` x if x is greater than y else y\"\n",
    "    return x if x > y else y\n",
    "\n",
    "\n",
    "def sigmoid(x):\n",
    "    r\"\"\"\n",
    "    :math:`f(x) =  \\frac{1.0}{(1.0 + e^{-x})}`\n",
    "\n",
    "    (See `<https://en.wikipedia.org/wiki/Sigmoid_function>`_ .)\n",
    "\n",
    "    Calculate as\n",
    "\n",
    "    :math:`f(x) =  \\frac{1.0}{(1.0 + e^{-x})}` if x >=0 else :math:`\\frac{e^x}{(1.0 + e^{x})}`\n",
    "\n",
    "    for stability.\"\"\"\n",
    "    return 1/(1 + math.e**(-x)) if x >= 0.0 else math.e**x/(1 + math.e**x)\n",
    "\n",
    "\n",
    "def relu(x):\n",
    "    \"\"\"\n",
    "    :math:`f(x) =` x if x is greater than 0, else 0\n",
    "\n",
    "    (See `<https://en.wikipedia.org/wiki/Rectifier_(neural_networks)>`_ .)\n",
    "    \"\"\"\n",
    "    return x if x > 0 else 0\n",
    "\n",
    "\n",
    "def relu_back(x, y):\n",
    "    \":math:`f(x) =` y if x is greater than 0 else 0\"\n",
    "    return y if x > 0.0 else 0.0\n",
    "\n",
    "\n",
    "EPS = 1e-6\n",
    "\n",
    "\n",
    "def log(x):\n",
    "    \":math:`f(x) = log(x)`\"\n",
    "    return math.log(x + EPS)\n",
    "\n",
    "\n",
    "def exp(x):\n",
    "    \":math:`f(x) = e^{x}`\"\n",
    "    return math.exp(x)\n",
    "\n",
    "\n",
    "def log_back(a, b):\n",
    "    return b / (a + EPS)\n",
    "\n",
    "\n",
    "def inv(x):\n",
    "    \":math:`f(x) = 1/x`\"\n",
    "    return 1.0 / x\n",
    "\n",
    "\n",
    "def inv_back(a, b):\n",
    "    return -(1.0 / a ** 2) * b"
   ]
  },
  {
   "source": [
    "## Task 0.2: Testing and Debugging"
   ],
   "cell_type": "markdown",
   "metadata": {}
  },
  {
   "cell_type": "code",
   "execution_count": 37,
   "metadata": {},
   "outputs": [],
   "source": [
    "import pytest"
   ]
  },
  {
   "cell_type": "code",
   "execution_count": null,
   "metadata": {},
   "outputs": [],
   "source": [
    "@pytest.mark.task0_2\n",
    "@given(small_floats, small_floats)\n",
    "def test_symmetric(x, y):\n",
    "    \"\"\"\n",
    "    Write a test that ensures that :func:`minitorch.operators.mul` is symmetric, i.e.\n",
    "    gives the same value regardless of the order of its input.\n",
    "    \"\"\"\n",
    "    None\n",
    "    # TODO: Implement for Task 0.2.\n",
    "    assert operators.mul(x, y) == operators.mul(y, x)\n",
    "\n",
    "\n",
    "@pytest.mark.task0_2\n",
    "@given(small_floats, small_floats, small_floats)\n",
    "def test_distribute(x, y, z):\n",
    "    r\"\"\"\n",
    "    Write a test that ensures that your operators distribute, i.e.\n",
    "    :math:`z \\times (x + y) = z \\times x + z \\times y`\n",
    "    \"\"\"\n",
    "    assert_close(operators.mul(z, operators.add(x, y)), operators.add(\n",
    "        operators.mul(z, x), operators.mul(z, y)))\n",
    "\n",
    "\n",
    "@ pytest.mark.task0_2\n",
    "@given(small_floats, small_floats)\n",
    "def test_other(x, y):\n",
    "    \"\"\"\n",
    "    Write a test that ensures some other property holds for your functions.\n",
    "    max(x, y) = max(y, x)\n",
    "    \"\"\"\n",
    "    # La función máximo es simetrica\n",
    "    assert_close(operators.max(x, y), operators.max(y, x))"
   ]
  },
  {
   "source": [
    "## Task 0.3: Higher-order functions"
   ],
   "cell_type": "markdown",
   "metadata": {}
  },
  {
   "cell_type": "code",
   "execution_count": 25,
   "metadata": {},
   "outputs": [],
   "source": [
    "def map(fn):\n",
    "    \"\"\"\n",
    "    Higher-order map.\n",
    "    See `<https://en.wikipedia.org/wiki/Map_(higher-order_function)>`_\n",
    "    Args:\n",
    "        fn (one-arg function): Function from one value to one value.\n",
    "    Returns:\n",
    "        function : A function that takes a list, applies `fn` to each element, and returns a\n",
    "        new list\n",
    "    \"\"\"\n",
    "    def apply_map(ls):\n",
    "        return [fn(i) for i in ls]\n",
    "    return apply_map\n",
    "\n",
    "\n",
    "def negList(ls):\n",
    "    \"Use :func:`map` and :func:`neg` to negate each element in `ls`\"\n",
    "    return map(lambda x: -x)(ls)\n",
    "\n",
    "\n",
    "def zipWith(fn):\n",
    "    \"\"\"\n",
    "    See `<https://en.wikipedia.org/wiki/Map_(higher-order_function)>`_\n",
    "    Args:\n",
    "        fn (two-arg function): combine two values\n",
    "    Returns:\n",
    "        function : takes two equally sized lists `ls1` and `ls2`, produce a new list by\n",
    "        applying fn(x, y) one each pair of elements.\n",
    "    \"\"\"\n",
    "    def apply_zip(ls1, ls2):\n",
    "        return [fn(x, y) for x, y in zip(ls1, ls2)]\n",
    "    return apply_zip\n",
    "\n",
    "\n",
    "def addLists(ls1, ls2):\n",
    "    \"Add the elements of `ls1` and `ls2` using :func:`zipWith` and :func:`add`\"\n",
    "    return zipWith(add)(ls1, ls2)\n",
    "\n",
    "\n",
    "def reduce(fn, start):\n",
    "    r\"\"\"\n",
    "    Higher-order reduce.\n",
    "    Args:\n",
    "        fn (two-arg function): combine two values\n",
    "        start (float): start value :math:`x_0`\n",
    "    Returns:\n",
    "        function : function that takes a list `ls` of elements\n",
    "        :math:`x_1 \\ldots x_n` and computes the reduction :math:`fn(x_3, fn(x_2,\n",
    "        fn(x_1, x_0)))`\n",
    "    \"\"\"\n",
    "    def apply_reduce(ls):\n",
    "        reduc = start\n",
    "        for xi in ls:\n",
    "            reduc = fn(reduc, xi)\n",
    "        return reduc\n",
    "    return apply_reduce\n",
    "\n",
    "\n",
    "def sum(ls):\n",
    "    \"\"\"\n",
    "    Sum up a list using :func:`reduce` and :func:`add`.\n",
    "    \"\"\"\n",
    "    return reduce(add, 0.0)(ls)\n",
    "\n",
    "\n",
    "def prod(ls):\n",
    "    \"\"\"\n",
    "    Product of a list using :func:`reduce` and :func:`mul`.\n",
    "    \"\"\"\n",
    "    return reduce(mul, 1.0)(ls)"
   ]
  },
  {
   "source": [
    "## Task 0.4: Modules"
   ],
   "cell_type": "markdown",
   "metadata": {}
  },
  {
   "cell_type": "code",
   "execution_count": null,
   "metadata": {},
   "outputs": [],
   "source": [
    "def train(self):\n",
    "    \"Set the mode of this module and all descendent modules to `train`.\"\n",
    "    # TODO: Implement for Task 0.4.\n",
    "\n",
    "    self.mode = \"train\"\n",
    "\n",
    "    for key in self._modules:\n",
    "        self._modules[key].mode = \"train\"\n",
    "\n",
    "def eval(self):\n",
    "    \"Set the mode of this module and all descendent modules to `eval`.\"\n",
    "    # TODO: Implement for Task 0.4.\n",
    "    self.mode = \"eval\"\n",
    "    for key in self._modules:\n",
    "        self._modules[key].mode = \"eval\"\n",
    "\n",
    "def named_parameters(self):\n",
    "    \"\"\"\n",
    "    Collect all the parameters of this module and its descendents.\n",
    "\n",
    "    Returns:\n",
    "        dict: Each name (key) and :class:`Parameter` (value) under this module.\n",
    "    \"\"\"\n",
    "    named = self.__dict__[\"_parameters\"]\n",
    "\n",
    "    for moduleName in self._modules:\n",
    "        paramsByModule = {}\n",
    "        for param in self._modules[moduleName].__dict__[\"_parameters\"].items():\n",
    "            paramsByModule = {**paramsByModule, **{moduleName + \".\" + param[0]: param[1]}}\n",
    "        named = {**named, **paramsByModule}\n",
    "    return named"
   ]
  },
  {
   "source": [
    "## Task 0.5: Visualization"
   ],
   "cell_type": "markdown",
   "metadata": {}
  },
  {
   "source": [
    "![Visdom](./img/task05.png)"
   ],
   "cell_type": "markdown",
   "metadata": {}
  },
  {
   "source": [
    "# Test"
   ],
   "cell_type": "markdown",
   "metadata": {}
  },
  {
   "source": [
    "![Visdom](./img/Test-passed.png)"
   ],
   "cell_type": "markdown",
   "metadata": {}
  }
 ]
}